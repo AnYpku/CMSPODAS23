{
 "cells": [
  {
   "cell_type": "markdown",
   "id": "1ca8be25",
   "metadata": {},
   "source": [
    "## Tag and probe\n",
    "\n",
    "So far, we've computed all our efficiencies using ground truth as provided by our simulation to categorize our signal and background reconstructed electrons.  If we trust our simulation to perfectly describe the detector response, then our job is done.  We cannot do that (**Q: why might we need to know true electron tagging efficiency in data?**), so we need to measure the efficiency in data, categorizing signal and background by inference.  How do we do this without selection bias?  Thanks to the Z boson, we have a solution: tag one electron in an event that passes some high quality requirement, then look for a \"probe\" electron such that the invariant mass of the di-electron pair ($m_{ee}$) matches that of the Z boson.  If we count the number of probes falling in some mass window that pass and fail our ID, we can infer the true electron tagging efficiency in data, despite not knowing the ground truth for each electron.\n",
    "Below is a basic example of making a tag and probe selection, then plotting the pass and fail mass distributions, for POG cut-based electron ID, using our simulated Z event sample."
   ]
  },
  {
   "cell_type": "code",
   "execution_count": null,
   "id": "4659129f",
   "metadata": {},
   "outputs": [],
   "source": [
    "import uproot\n",
    "from glob import glob\n",
    "base_directory = '/eos/user/c/cmsdas/2023/short-ex-egamma/datasets/'\n",
    "dyfiles = sorted(glob(f'{base_directory}/DYJetsToLL_M-50_TuneCP5_13TeV-amcatnloFXFX-pythia8/*.root'))\n",
    "gjetfiles = sorted(glob(f'{base_directory}/GJets_HT-400To600_TuneCP5_13TeV-madgraphMLM-pythia8/*.root'))\n",
    "datafiles = sorted(glob(f'{base_directory}/EGamma-Run2018A/*.root'))\n",
    "file = uproot.open(dyfiles[0])\n",
    "dict(file)"
   ]
  },
  {
   "cell_type": "code",
   "execution_count": null,
   "id": "452cb901",
   "metadata": {},
   "outputs": [],
   "source": [
    "from coffea.nanoevents import NanoEventsFactory\n",
    "\n",
    "dyevents = NanoEventsFactory.from_root(dyfiles[0]).events()\n",
    "gevents = NanoEventsFactory.from_root(gjetfiles[0]).events()\n",
    "dataevents = NanoEventsFactory.from_root(datafiles[0]).events()"
   ]
  },
  {
   "cell_type": "code",
   "execution_count": null,
   "id": "cda599a9",
   "metadata": {},
   "outputs": [],
   "source": [
    "zcands = ak.combinations(dyevents.Electron, 2, fields = [\"tag\", \"probe\"])\n",
    "# filter pairs to have a good tag\n",
    "zcands = zcands[\n",
    "    (zcands.tag.pt > 20.)\n",
    "    & (abs(zcands.tag.eta) < 2.1)\n",
    "    & (zcands.tag.cutBased >= zcands.tag.TIGHT)\n",
    "    & (zcands.probe.pt > 10.)\n",
    "]\n",
    "# filter out events that have no z candidates\n",
    "zcands = zcands[ak.num(zcands) > 0]\n",
    "# some events may have multiple candidates, take the one with highest pt (i.e. the default ordering in NanoAOD)\n",
    "zcands = ak.firsts(zcands)\n",
    "# compute invariant mass\n",
    "mass = (zcands.tag + zcands.probe).mass\n",
    "\n",
    "goodprobe = zcands.probe.cutBased >= zcands.probe.LOOSE"
   ]
  },
  {
   "cell_type": "code",
   "execution_count": null,
   "id": "ca3d820b",
   "metadata": {},
   "outputs": [],
   "source": [
    "fig, (axp, axf) = plt.subplots(1, 2, sharey = True, figsize = (12, 6))\n",
    "mbins = np.linspace(60, 120, 61)\n",
    "\n",
    "axp.hist(mass[goodprobe], bins = mbins)\n",
    "axp.set_title('Passing probes')\n",
    "axp.set_ylabel('Events')\n",
    "axp.set_xlabel('Dielectron mass [GeV]')\n",
    "\n",
    "axf.hist(mass[~goodprobe], bins = mbins)\n",
    "axf.set_title('Failing probes')\n",
    "axf.set_xlabel('Dielectron mass [GeV]')"
   ]
  },
  {
   "cell_type": "markdown",
   "id": "8b31d10a",
   "metadata": {},
   "source": [
    "Now make the same plot with low and high probe $p_{T}$ requirements.  How does the mass shape and relative peak height change?"
   ]
  },
  {
   "cell_type": "markdown",
   "id": "27c690ab",
   "metadata": {},
   "source": [
    "**Plot the same distribution for electrons in real data**\n",
    "\n",
    "Try repeating the exercise above using `dataevents` instead of `dyevents`. You'll notice the failing distribution's peak is hidden under a much larger amount of background. This is combinatorial background from random fake electrons combining with the tag to create a continuous falling invariant mass spectrum. Try applying some selections on the identification variables above, and see how they impact signal and background distributions.\n",
    "\n",
    "To properly measure the peak height, a full analysis would have to subtract this background by fitting the pass and fail distributions.  If you got this far, try using [scipy.optimize.curve_fit](https://docs.scipy.org/doc/scipy/reference/generated/scipy.optimize.curve_fit.html) to fit each distribution."
   ]
  },
  {
   "cell_type": "markdown",
   "id": "d95ea709",
   "metadata": {},
   "source": [
    "## Scale Factors"
   ]
  },
  {
   "cell_type": "markdown",
   "id": "72d24fb8",
   "metadata": {},
   "source": [
    "Tag and probe is the main method used derive the efficiencies that serve as inputs to the electron and photon *scale factors* (and most scale factors in general). The scale factors we will be using are defined as the ratio of the data efficieny to the Monte Carlo (MC) efficiency.\n",
    "\n",
    "\n",
    "Scale factors for electrons and photons are applied as event weights. Scale factors serve to match the MC object efficiency (ID, reconstruction, etc.) to the observed data efficiency. **Q: Why could this correction be needed?**. Scale factors are accessible via [ROOT Histograms](https://twiki.cern.ch/twiki/bin/view/CMS/EgammaUL2016To2018#General_note_about_ID_SFs) and [JSONs](https://twiki.cern.ch/twiki/bin/viewauth/CMS/EgammaSFJSON). The JSON format works particularly well with NanaAOD and Coffea-based analyeses, so we will include a brief example of how to access the electron ID scale factors using the `correctionlib` package."
   ]
  },
  {
   "cell_type": "code",
   "execution_count": null,
   "id": "d49b5119",
   "metadata": {},
   "outputs": [],
   "source": [
    "from correctionlib import CorrectionSet\n",
    "\n",
    "evaluator = CorrectionSet.from_file(\"/cvmfs/cms.cern.ch/rsync/cms-nanoAOD/jsonpog-integration/POG/EGM/2018_UL/electron.json.gz\")"
   ]
  },
  {
   "cell_type": "markdown",
   "id": "df6fa1a2",
   "metadata": {},
   "source": [
    "Now that we have scale factors accessible, we need to apply them to our analysis! We already have a collection of Z candidates built (our tag and probe pairs), so we will use those. Normally you will not apply SFs to a tag and probe analyses, but this is just to serve as an example of how to apply scale factors to a Z candidate. "
   ]
  },
  {
   "cell_type": "code",
   "execution_count": null,
   "id": "68c260c6",
   "metadata": {},
   "outputs": [],
   "source": [
    "#Get the ID scale factor for each electron in the pair\n",
    "sfel1 = evaluator[\"UL-Electron-ID-SF\"].evaluate(\"2018\", \"sf\", \"Tight\", zcands.tag.eta.to_numpy(), zcands.tag.pt.to_numpy())\n",
    "sfel2 = evaluator[\"UL-Electron-ID-SF\"].evaluate(\"2018\", \"sf\", \"Loose\", zcands.probe.eta.to_numpy(), zcands.probe.pt.to_numpy())\n",
    "\n",
    "sftot = sfel1 * sfel2\n",
    "\n",
    "#Apply the weights to the 'Good probes' Z mass peak\n",
    "fig, ax = plt.subplots(figsize = (12, 6))\n",
    "mbins = np.linspace(60, 120, 61)\n",
    "\n",
    "ax.hist(mass[goodprobe], bins = mbins,label=\"no SF Event weight\",histtype='step')\n",
    "ax.hist(mass[goodprobe], bins = mbins, weights = sftot[goodprobe],label=\"with SF Event weight\",histtype='step')\n",
    "ax.set_ylabel('Events')\n",
    "ax.set_xlabel('Dielectron mass [GeV]')\n",
    "ax.legend()"
   ]
  },
  {
   "cell_type": "markdown",
   "id": "211ad537",
   "metadata": {},
   "source": [
    "Very similar! We need a better way to decide if the scale factors are relevant. Plots that directly show the differences between the two, such as ratio plots, may be useful."
   ]
  },
  {
   "cell_type": "code",
   "execution_count": null,
   "id": "2f02c2ca",
   "metadata": {},
   "outputs": [],
   "source": []
  }
 ],
 "metadata": {
  "kernelspec": {
   "display_name": "Python 3",
   "language": "python",
   "name": "python3"
  },
  "language_info": {
   "codemirror_mode": {
    "name": "ipython",
    "version": 3
   },
   "file_extension": ".py",
   "mimetype": "text/x-python",
   "name": "python",
   "nbconvert_exporter": "python",
   "pygments_lexer": "ipython3",
   "version": "3.6.8"
  }
 },
 "nbformat": 4,
 "nbformat_minor": 5
}

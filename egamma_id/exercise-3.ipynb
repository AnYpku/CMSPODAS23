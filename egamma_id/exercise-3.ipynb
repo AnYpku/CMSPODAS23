{
 "cells": [
  {
   "cell_type": "markdown",
   "metadata": {},
   "source": [
    "# Identification"
   ]
  },
  {
   "cell_type": "markdown",
   "metadata": {},
   "source": [
    "Everything that is reconstructed as electrons and photons, are not actually \"prompt\" electrons and photons\n",
    "Even other kinds of signatures can fake electrons and photons\n",
    "<img src=\"../reco_and_energy_corr/Pics/FEYNMAN.png\" alt=\"Alt Text\" width=\"800\"> "
   ]
  },
  {
   "cell_type": "markdown",
   "metadata": {},
   "source": [
    "<img src=\"../reco_and_energy_corr/Pics/ID.PNG\" alt=\"Alt Text\" width=\"800\">"
   ]
  },
  {
   "cell_type": "markdown",
   "metadata": {},
   "source": [
    "Photons and electrons play a crucial role in the success of CMS. They were vital in the discovery of the Higgs boson and play an important role in searches for new physics and standard model measurements. \n",
    "The CMS detector features a high-resolution electromagnetic calorimeter (ECAL) and the world's largest active silicon tracker. These detectors provide clean object identification and excellent energy and momentum resolution of photons and electrons. Within CMS, the [EGamma POG](https://twiki.cern.ch/twiki/bin/view/CMS/EgammaPOG) has the responsibility to \"study, develop, characterize and validate the tools to identify and reconstruct electrons and photons.\" \n",
    "\n",
    "#### In this exercise, we will examine photon and electron identification and study how these objects are used in physics analyses. We will start with [NanoAOD](https://twiki.cern.ch/twiki/bin/view/CMSPublic/WorkBookNanoAOD) samples.\n",
    "\n",
    "Table of contents:\n",
    "   * [Using NanoAOD](#Using-NanoAOD)\n",
    "   * [Array programming primer](#Array-programming-primer)\n",
    "   * [Ground truth](#Ground-truth)\n",
    "   * [Discriminating variables](#Discriminating-variables)\n",
    "      * [Shower shape](#Shower-shape)\n",
    "      * [Isolation](#Isolation)\n",
    "      * [Electron-specific variables](#Electron-specific-variables)\n",
    "      * [Photon-specific variables](#Photon-specific-variables)\n",
    "   * [Cut optimization](#Cut-optimization)\n",
    "   * [Tag and probe](#Tag-and-probe)\n",
    "   * [Scale Factors](#Scale-Factors)"
   ]
  },
  {
   "cell_type": "markdown",
   "metadata": {},
   "source": [
    "## Using NanoAOD\n",
    "We will be using the [NanoAOD](https://twiki.cern.ch/twiki/bin/view/CMSPublic/WorkBookNanoAOD) data format in this exercise. It contains only information that are accessed in a typical CMS analysis, averaging 1-2 kB per event, in basic types like `int`, `float`, etc. This is in contrast to the [EDM format](https://twiki.cern.ch/twiki/bin/view/CMSPublic/WorkBookCMSSWFramework#EdM) used in upstream formats. This means that no CMSSW environment is necessary to read NanoAOD files.\n",
    "\n",
    "For analyses that require information not available in standard NanoAOD, one can create _private NanoAOD_, where  missing variables and/or CMSSW framework modules are added to the [configuration](https://github.com/cms-sw/cmssw/blob/master/PhysicsTools/NanoAOD/python/nano_cff.py) and then CRAB workflows are used to re-extract the information from the parent MiniAOD dataset.  The CMS [cross-POG forum](https://indico.cern.ch/category/5517/) exists to also allow users to petition for certain variables to be added to central NanoAOD.  For the purposes of this exercise, all standard EGamma variables can already be found in NanoAOD.\n",
    "\n",
    "Below, we examine the content of a NanoAOD file using [uproot](https://uproot.readthedocs.io/en/latest/?badge=latest#)."
   ]
  },
  {
   "cell_type": "code",
   "execution_count": 1,
   "metadata": {},
   "outputs": [
    {
     "data": {
      "text/plain": [
       "{'tag;1': <TObjString 'untagged' at 0x7f1e568c8200>,\n",
       " 'Events;1': <TTree 'Events' (1628 branches) at 0x7f1e568c5cd0>,\n",
       " 'LuminosityBlocks;1': <TTree 'LuminosityBlocks' (2 branches) at 0x7f1e568c5af0>,\n",
       " 'Runs;1': <TTree 'Runs' (8 branches) at 0x7f1e568c5430>,\n",
       " 'MetaData;1': <TTree 'MetaData' (1 branches) at 0x7f1e568c5550>,\n",
       " 'ParameterSets;1': <TTree 'ParameterSets' (1 branches) at 0x7f1e556d4670>}"
      ]
     },
     "execution_count": 1,
     "metadata": {},
     "output_type": "execute_result"
    }
   ],
   "source": [
    "import uproot\n",
    "from glob import glob\n",
    "base_directory = '/eos/user/c/cmsdas/2023/short-ex-egamma/datasets/'\n",
    "dyfiles = sorted(glob(f'{base_directory}/DYJetsToLL_M-50_TuneCP5_13TeV-amcatnloFXFX-pythia8/*.root'))\n",
    "gjetfiles = sorted(glob(f'{base_directory}/GJets_HT-400To600_TuneCP5_13TeV-madgraphMLM-pythia8/*.root'))\n",
    "datafiles = sorted(glob(f'{base_directory}/EGamma-Run2018A/*.root'))\n",
    "file = uproot.open(dyfiles[0])\n",
    "dict(file)"
   ]
  },
  {
   "cell_type": "markdown",
   "metadata": {},
   "source": [
    "The item of interest here is the `Events` [TTree](https://root.cern.ch/doc/master/classTTree.html) object. We will focus on electron/photon specific content. More information about the entire `Events` tree can be found in [this website](https://cms-nanoaod-integration.web.cern.ch/integration/master-106X/mc106X_doc.html) (and its' parent folder contains branch lists for other NanoAOD versions).\n",
    "\n",
    "To help organize all this content, we'll use the [coffea](https://coffeateam.github.io/coffea/) NanoEvents class."
   ]
  },
  {
   "cell_type": "code",
   "execution_count": 2,
   "metadata": {},
   "outputs": [],
   "source": [
    "from coffea.nanoevents import NanoEventsFactory\n",
    "\n",
    "dyevents = NanoEventsFactory.from_root(dyfiles[0]).events()\n",
    "gevents = NanoEventsFactory.from_root(gjetfiles[0]).events()\n",
    "dataevents = NanoEventsFactory.from_root(datafiles[0]).events()"
   ]
  },
  {
   "cell_type": "code",
   "execution_count": 3,
   "metadata": {},
   "outputs": [
    {
     "data": {
      "text/plain": [
       "['dEscaleDown',\n",
       " 'dEscaleUp',\n",
       " 'dEsigmaDown',\n",
       " 'dEsigmaUp',\n",
       " 'deltaEtaSC',\n",
       " 'dr03EcalRecHitSumEt',\n",
       " 'dr03HcalDepth1TowerSumEt',\n",
       " 'dr03TkSumPt',\n",
       " 'dr03TkSumPtHEEP',\n",
       " 'dxy',\n",
       " 'dxyErr',\n",
       " 'dz',\n",
       " 'dzErr',\n",
       " 'eCorr',\n",
       " 'eInvMinusPInv',\n",
       " 'energyErr',\n",
       " 'eta',\n",
       " 'hoe',\n",
       " 'ip3d',\n",
       " 'jetPtRelv2',\n",
       " 'jetRelIso',\n",
       " 'mass',\n",
       " 'miniPFRelIso_all',\n",
       " 'miniPFRelIso_chg',\n",
       " 'mvaFall17V2Iso',\n",
       " 'mvaFall17V2noIso',\n",
       " 'pfRelIso03_all',\n",
       " 'pfRelIso03_chg',\n",
       " 'phi',\n",
       " 'pt',\n",
       " 'r9',\n",
       " 'scEtOverPt',\n",
       " 'sieie',\n",
       " 'sip3d',\n",
       " 'mvaTTH',\n",
       " 'charge',\n",
       " 'cutBased',\n",
       " 'jetIdx',\n",
       " 'pdgId',\n",
       " 'photonIdx',\n",
       " 'tightCharge',\n",
       " 'vidNestedWPBitmap',\n",
       " 'vidNestedWPBitmapHEEP',\n",
       " 'convVeto',\n",
       " 'cutBased_HEEP',\n",
       " 'isPFcand',\n",
       " 'jetNDauCharged',\n",
       " 'lostHits',\n",
       " 'mvaFall17V2Iso_WP80',\n",
       " 'mvaFall17V2Iso_WP90',\n",
       " 'mvaFall17V2Iso_WPL',\n",
       " 'mvaFall17V2noIso_WP80',\n",
       " 'mvaFall17V2noIso_WP90',\n",
       " 'mvaFall17V2noIso_WPL',\n",
       " 'seedGain',\n",
       " 'genPartIdx',\n",
       " 'genPartFlav',\n",
       " 'cleanmask',\n",
       " 'genPartIdxG',\n",
       " 'jetIdxG',\n",
       " 'photonIdxG']"
      ]
     },
     "execution_count": 3,
     "metadata": {},
     "output_type": "execute_result"
    }
   ],
   "source": [
    "dyevents.Electron.fields"
   ]
  },
  {
   "cell_type": "markdown",
   "metadata": {},
   "source": [
    "Try replacing the above cell with `dyevents.Electron.fields` and `dyevents.Photon.fields` to see what photon-related columns exist in the tree.\n",
    "\n",
    "Below shows how to see a short description of a column. Try `dyevents.Electron.jetIdx.__doc__` and `dyevents.Electron.lostHits.__doc__`. **Q: What could these values be used for? Why are they associated with an electron?**"
   ]
  },
  {
   "cell_type": "code",
   "execution_count": 4,
   "metadata": {},
   "outputs": [
    {
     "data": {
      "text/plain": [
       "'cut-based ID Fall17 V2 (0:fail, 1:veto, 2:loose, 3:medium, 4:tight)'"
      ]
     },
     "execution_count": 4,
     "metadata": {},
     "output_type": "execute_result"
    }
   ],
   "source": [
    "dyevents.Electron.cutBased.__doc__"
   ]
  },
  {
   "cell_type": "markdown",
   "metadata": {},
   "source": [
    "## Array programming primer\n",
    "\n",
    "Before diving into the content, let's give a quick overview of [awkward](https://awkward-array.org/quickstart.html) array syntax, as the NanoEvents structure is an awkward array.  It is an extension of the [numpy](https://numpy.org/) array programming syntax.  If you are unfamiliar with numpy, perhaps glance through the [numpy quickstart](https://docs.scipy.org/doc/numpy/user/quickstart.html) before continuing, in particular the universal function and boolean indexing sections.  The main extensions to numpy that are used here are jagged arrays.  Some basic properties are shown below."
   ]
  },
  {
   "cell_type": "code",
   "execution_count": 5,
   "metadata": {},
   "outputs": [
    {
     "name": "stdout",
     "output_type": "stream",
     "text": [
      "<Array [[1, 2, 3], [4, -2, 4], [], [5]] type='4 * var * int64'>\n",
      "<Array [3, 3, 0, 1] type='4 * int64'>\n"
     ]
    }
   ],
   "source": [
    "import awkward as ak\n",
    "import numpy as np\n",
    "\n",
    "a = ak.Array([[1, 2, 3], [4, -2, 4], [], [5]])\n",
    "print(repr(a))\n",
    "print(repr(ak.num(a)))"
   ]
  },
  {
   "cell_type": "markdown",
   "metadata": {},
   "source": [
    "Above is a singly-jagged array, where the first dimension has length 4, and the second dimension has variable length.  The length along that dimension is accessible via the [ak.num function](https://awkward-array.readthedocs.io/en/latest/_auto/ak.num.html) (the default axis is 1 for `ak.num`).  This is like the array `dyevents.Electrons`.  All comparison operators and numpy ufuncs are _broadcast_ over the content, meaning they are applied to each element in the jagged array. For example:"
   ]
  },
  {
   "cell_type": "code",
   "execution_count": 6,
   "metadata": {},
   "outputs": [
    {
     "name": "stdout",
     "output_type": "stream",
     "text": [
      "[[False, False, True], [True, False, True], [], [True]]\n",
      "[[1, 2, 3], [4, 2, 4], [], [5]]\n"
     ]
    }
   ],
   "source": [
    "print(a > 2)\n",
    "print(abs(a))"
   ]
  },
  {
   "cell_type": "markdown",
   "metadata": {},
   "source": [
    "The jagged array `a > 2` can be used to filter (i.e. select) only those elements that pass the criteria. This is done using the `array[filter]` notation. We will use this syntax later to, for example, select only electrons above a certain pT threshold:"
   ]
  },
  {
   "cell_type": "code",
   "execution_count": 7,
   "metadata": {},
   "outputs": [
    {
     "name": "stdout",
     "output_type": "stream",
     "text": [
      "[[False, False, True], [True, False, True], [], [True]]\n",
      "[[3], [4, 4], [], [5]]\n"
     ]
    }
   ],
   "source": [
    "object_cut = (a > 2)\n",
    "print(object_cut)\n",
    "print(a[object_cut])"
   ]
  },
  {
   "cell_type": "markdown",
   "metadata": {},
   "source": [
    "When using jagged arrays in a typical physics analysis, in addition to `object_cuts` we can also have event-level selections. For example, we might want to only select _events_ where `all` electrons in the event have pT above some threshold:"
   ]
  },
  {
   "cell_type": "code",
   "execution_count": 8,
   "metadata": {},
   "outputs": [
    {
     "name": "stdout",
     "output_type": "stream",
     "text": [
      "[False, False, True, True]\n",
      "[[], [5]]\n"
     ]
    }
   ],
   "source": [
    "event_cut = ak.all(a > 2, axis = 1)\n",
    "print(event_cut)\n",
    "print(a[event_cut])"
   ]
  },
  {
   "cell_type": "markdown",
   "metadata": {},
   "source": [
    "Most utilities in the scientific python \"speak\" numpy arrays, however they do not know about jagged arrays.  So, for example, when interfacing with [pandas](https://pandas.pydata.org/) or [matplotlib](https://matplotlib.org/) we need to remove the jaggedness by using `ak.flatten`.  Of course, we should do this only after making any event-level selections, as after flattening, that structure is lost."
   ]
  },
  {
   "cell_type": "code",
   "execution_count": 9,
   "metadata": {},
   "outputs": [
    {
     "name": "stdout",
     "output_type": "stream",
     "text": [
      "[[], [5]]\n",
      "[5]\n"
     ]
    }
   ],
   "source": [
    "print(a[event_cut])\n",
    "print(ak.flatten(a[event_cut]))"
   ]
  },
  {
   "cell_type": "markdown",
   "metadata": {},
   "source": [
    "Another common awkward type is masked arrays.  The main feature is that certain elements can be [null](https://en.wikipedia.org/wiki/Nullable_type) (syn. N/A, not available, `None`)"
   ]
  },
  {
   "cell_type": "code",
   "execution_count": 10,
   "metadata": {},
   "outputs": [
    {
     "data": {
      "text/plain": [
       "<Array [1, 2, None, 4] type='4 * ?int64'>"
      ]
     },
     "execution_count": 10,
     "metadata": {},
     "output_type": "execute_result"
    }
   ],
   "source": [
    "b = ak.Array([1, 2, None, 4])\n",
    "b"
   ]
  },
  {
   "cell_type": "markdown",
   "metadata": {},
   "source": [
    "The null value propagates through any operation, until it is filled in"
   ]
  },
  {
   "cell_type": "code",
   "execution_count": 11,
   "metadata": {},
   "outputs": [
    {
     "name": "stdout",
     "output_type": "stream",
     "text": [
      "[1, 2, None, 4]\n",
      "[1, 2, -1, 4]\n",
      "[True, True, None, True]\n",
      "[True, True, False, True]\n"
     ]
    }
   ],
   "source": [
    "print(b)\n",
    "print(ak.fill_none(b, -1))\n",
    "print(b > 0)\n",
    "print(ak.fill_none(b, -1) > 0)"
   ]
  },
  {
   "cell_type": "markdown",
   "metadata": {},
   "source": [
    "In the scientific python ecosystem, [matplotlib](https://matplotlib.org/) is the de facto standard plotting utility. Let's import it, along with [mplhep](https://mplhep.readthedocs.io/en/latest/), a helper library to make HEP plots easier (including CMS style!)."
   ]
  },
  {
   "cell_type": "code",
   "execution_count": 12,
   "metadata": {},
   "outputs": [],
   "source": [
    "%matplotlib inline\n",
    "import matplotlib.pyplot as plt\n",
    "import mplhep\n",
    "mplhep.style.use(mplhep.style.CMS)"
   ]
  },
  {
   "cell_type": "code",
   "execution_count": 13,
   "metadata": {},
   "outputs": [],
   "source": [
    "# run this again to make sure the figure size updates (a known bug)\n",
    "mplhep.style.use(mplhep.style.CMS)"
   ]
  },
  {
   "cell_type": "markdown",
   "metadata": {},
   "source": [
    "## Kinematics\n",
    "Below is a plot of all reconstructed electrons' transverse momentum ($p_{T}$) in this NanoAOD file.\n",
    "Try plotting instead the $\\eta$ and $\\phi$ of the electrons.  Plot the electron `counts`.  Plot the $p_{T}$ of the electrons after applying a cut on $|\\eta| < 1.4$."
   ]
  },
  {
   "cell_type": "code",
   "execution_count": 14,
   "metadata": {},
   "outputs": [
    {
     "data": {
      "text/plain": [
       "(array([5.00000e+00, 1.32202e+05, 9.91960e+04, 7.50710e+04, 7.11350e+04,\n",
       "        7.18930e+04, 7.55690e+04, 7.80890e+04, 8.19400e+04, 8.52610e+04,\n",
       "        8.44390e+04, 5.88110e+04, 3.22630e+04, 2.26410e+04, 1.64680e+04,\n",
       "        1.24690e+04, 9.60200e+03, 7.43900e+03, 5.90700e+03, 4.68100e+03,\n",
       "        3.90100e+03, 3.12500e+03, 2.49800e+03, 2.08300e+03, 1.81400e+03,\n",
       "        1.50600e+03, 1.20700e+03, 1.07900e+03, 9.08000e+02, 8.12000e+02,\n",
       "        6.54000e+02, 5.94000e+02, 5.43000e+02, 4.59000e+02, 3.94000e+02,\n",
       "        3.74000e+02, 2.95000e+02, 2.81000e+02, 2.39000e+02, 2.17000e+02,\n",
       "        1.88000e+02, 1.76000e+02, 1.67000e+02, 1.40000e+02, 1.48000e+02,\n",
       "        1.06000e+02, 1.07000e+02, 9.70000e+01, 9.80000e+01]),\n",
       " array([  0.        ,   4.08163265,   8.16326531,  12.24489796,\n",
       "         16.32653061,  20.40816327,  24.48979592,  28.57142857,\n",
       "         32.65306122,  36.73469388,  40.81632653,  44.89795918,\n",
       "         48.97959184,  53.06122449,  57.14285714,  61.2244898 ,\n",
       "         65.30612245,  69.3877551 ,  73.46938776,  77.55102041,\n",
       "         81.63265306,  85.71428571,  89.79591837,  93.87755102,\n",
       "         97.95918367, 102.04081633, 106.12244898, 110.20408163,\n",
       "        114.28571429, 118.36734694, 122.44897959, 126.53061224,\n",
       "        130.6122449 , 134.69387755, 138.7755102 , 142.85714286,\n",
       "        146.93877551, 151.02040816, 155.10204082, 159.18367347,\n",
       "        163.26530612, 167.34693878, 171.42857143, 175.51020408,\n",
       "        179.59183673, 183.67346939, 187.75510204, 191.83673469,\n",
       "        195.91836735, 200.        ]),\n",
       " <BarContainer object of 49 artists>)"
      ]
     },
     "execution_count": 14,
     "metadata": {},
     "output_type": "execute_result"
    },
    {
     "data": {
      "image/png": "[encoded data removed]",
      "text/plain": [
       "<Figure size 720x720 with 1 Axes>"
      ]
     },
     "metadata": {
      "needs_background": "light"
     },
     "output_type": "display_data"
    }
   ],
   "source": [
    "fig, ax = plt.subplots()\n",
    "ax.set_xlabel(r'Electron $p_{T}$ [GeV]')\n",
    "ax.hist(ak.flatten(dyevents.Electron.pt), bins = np.linspace(0, 200, 50))\n",
    "#ax.set_xlabel(r'Electron $\\eta$')\n",
    "#ax.hist(ak.flatten(dyevents.Electron.eta), bins = np.linspace(-2.5, 2.5, 50))"
   ]
  },
  {
   "cell_type": "markdown",
   "metadata": {},
   "source": [
    "Below we plot the invariant mass of all distinct pairs of electrons. The pairs made using the `combinations` [documentation](https://awkward-array.org/doc/main/reference/generated/ak.combinations.html) function. The `e0` and `e1` names are names we assign so we can separately access the first and second electron in the pair. **Q: What is the origin of the shoulder-like structure at low mass? Can this be removed by performing selections on the electron candidates, using the information above?**"
   ]
  },
  {
   "cell_type": "code",
   "execution_count": 15,
   "metadata": {},
   "outputs": [
    {
     "name": "stderr",
     "output_type": "stream",
     "text": [
      "/cvmfs/sft.cern.ch/lcg/views/LCG_102swan/x86_64-centos7-gcc11-opt/lib/python3.9/site-packages/awkward/_connect/_numpy.py:209: RuntimeWarning: invalid value encountered in sqrt\n",
      "  result = getattr(ufunc, method)(\n"
     ]
    },
    {
     "data": {
      "image/png": "[encoded data removed]",
      "text/plain": [
       "<Figure size 720x720 with 1 Axes>"
      ]
     },
     "metadata": {
      "needs_background": "light"
     },
     "output_type": "display_data"
    }
   ],
   "source": [
    "fig, ax = plt.subplots()\n",
    "ax.set_xlabel(r'Dielectron mass [GeV]')\n",
    "\n",
    "ee = ak.combinations(dyevents.Electron, 2, fields = [\"e0\", \"e1\"])\n",
    "mass = (ee.e0 + ee.e1).mass\n",
    "ax.hist(ak.flatten(mass), bins = np.linspace(0, 200, 50));"
   ]
  },
  {
   "cell_type": "markdown",
   "metadata": {},
   "source": [
    "## Ground truth\n",
    "If we want to identify variables useful in distinguishing electrons and photons candidates, we better have a good definition of \"true\".  Let's take a look at the generated particles that are matched to reconstructed electrons and photons to understand what kind of processes give rise to them.\n",
    "\n",
    "For electrons and photons, NanoAOD pre-computes the truth-matched particle by finding final-state electron and photon particles in the `GenPart` table that are directionally close (via the metric $\\Delta R = \\sqrt{(\\Delta \\eta)^2 + (\\Delta \\phi)^2}$) to the reconstructed particle.  When no match is found, we get a null/NA value.  Below, we put reconstructed electrons into three buckets: matched to a gen electron, matched to a gen photon, and unmatched, based on the [PDG id](http://pdg.lbl.gov/2018/reviews/rpp2018-rev-monte-carlo-numbering.pdf).  Since for this purpose we don't care so much which event each electron belongs to, we also flatten the array here for convenience."
   ]
  },
  {
   "cell_type": "code",
   "execution_count": 16,
   "metadata": {},
   "outputs": [],
   "source": [
    "electrons = ak.flatten(dyevents.Electron)\n",
    "\n",
    "true_electrons = electrons[ak.fill_none(abs(electrons.matched_gen.pdgId) == 11, False)]\n",
    "photon_fakes = electrons[ak.fill_none(electrons.matched_gen.pdgId == 22, False)]\n",
    "unmatched_electrons = electrons[ak.is_none(electrons.matched_gen)]"
   ]
  },
  {
   "cell_type": "markdown",
   "metadata": {},
   "source": [
    "For the true electrons, we would expect the parent to be a Z boson in these samples.  We can check this using the `distinctParent` attribute stored in our files.  There is also a `parent` attribute, which specifies the direct ancestor to the generated electron, however this could also be an electron (due to final state $\\gamma$ radiation and other generator-internal reasons).  The `distinctParent` attribute skips copies of the same particle that are the result of FSR.\n",
    "\n",
    "Below, we put the `distinctParent` value, along with some other (carefully chosen) gen particle flags, into a pandas dataframe by passing a dictionary. In this dictionary, the key signifies the parameter and the element is a flattened array of that value for every electron in the NanoAOD file. The `ak.zip` groups keyed elements together for each electron, making sure the dataframe is cast correctly where each electron is an entry. We then use `groupby` to create categories that share common values. They are then ranked by the number of electrons, or \"counts\" that are in that category. We only consider the categories with the top 10 number of entries."
   ]
  },
  {
   "cell_type": "code",
   "execution_count": 17,
   "metadata": {},
   "outputs": [
    {
     "data": {
      "text/html": [
       "<div>\n",
       "<style scoped>\n",
       "    .dataframe tbody tr th:only-of-type {\n",
       "        vertical-align: middle;\n",
       "    }\n",
       "\n",
       "    .dataframe tbody tr th {\n",
       "        vertical-align: top;\n",
       "    }\n",
       "\n",
       "    .dataframe thead th {\n",
       "        text-align: right;\n",
       "    }\n",
       "</style>\n",
       "<table border=\"1\" class=\"dataframe\">\n",
       "  <thead>\n",
       "    <tr style=\"text-align: right;\">\n",
       "      <th></th>\n",
       "      <th>parentId</th>\n",
       "      <th>fromHardProcess</th>\n",
       "      <th>isPrompt</th>\n",
       "      <th>isDirectPromptTauDecayProduct</th>\n",
       "      <th>count</th>\n",
       "    </tr>\n",
       "  </thead>\n",
       "  <tbody>\n",
       "    <tr>\n",
       "      <th>21</th>\n",
       "      <td>23.0</td>\n",
       "      <td>True</td>\n",
       "      <td>True</td>\n",
       "      <td>False</td>\n",
       "      <td>655004</td>\n",
       "    </tr>\n",
       "    <tr>\n",
       "      <th>17</th>\n",
       "      <td>15.0</td>\n",
       "      <td>False</td>\n",
       "      <td>False</td>\n",
       "      <td>True</td>\n",
       "      <td>83738</td>\n",
       "    </tr>\n",
       "    <tr>\n",
       "      <th>5</th>\n",
       "      <td>2.0</td>\n",
       "      <td>True</td>\n",
       "      <td>True</td>\n",
       "      <td>False</td>\n",
       "      <td>19228</td>\n",
       "    </tr>\n",
       "    <tr>\n",
       "      <th>19</th>\n",
       "      <td>21.0</td>\n",
       "      <td>True</td>\n",
       "      <td>True</td>\n",
       "      <td>False</td>\n",
       "      <td>6361</td>\n",
       "    </tr>\n",
       "    <tr>\n",
       "      <th>2</th>\n",
       "      <td>1.0</td>\n",
       "      <td>True</td>\n",
       "      <td>True</td>\n",
       "      <td>False</td>\n",
       "      <td>5175</td>\n",
       "    </tr>\n",
       "    <tr>\n",
       "      <th>11</th>\n",
       "      <td>4.0</td>\n",
       "      <td>True</td>\n",
       "      <td>True</td>\n",
       "      <td>False</td>\n",
       "      <td>4321</td>\n",
       "    </tr>\n",
       "    <tr>\n",
       "      <th>8</th>\n",
       "      <td>3.0</td>\n",
       "      <td>True</td>\n",
       "      <td>True</td>\n",
       "      <td>False</td>\n",
       "      <td>2341</td>\n",
       "    </tr>\n",
       "    <tr>\n",
       "      <th>32</th>\n",
       "      <td>521.0</td>\n",
       "      <td>False</td>\n",
       "      <td>False</td>\n",
       "      <td>False</td>\n",
       "      <td>1328</td>\n",
       "    </tr>\n",
       "    <tr>\n",
       "      <th>27</th>\n",
       "      <td>411.0</td>\n",
       "      <td>False</td>\n",
       "      <td>False</td>\n",
       "      <td>False</td>\n",
       "      <td>1224</td>\n",
       "    </tr>\n",
       "    <tr>\n",
       "      <th>31</th>\n",
       "      <td>511.0</td>\n",
       "      <td>False</td>\n",
       "      <td>False</td>\n",
       "      <td>False</td>\n",
       "      <td>1211</td>\n",
       "    </tr>\n",
       "  </tbody>\n",
       "</table>\n",
       "</div>"
      ],
      "text/plain": [
       "    parentId  fromHardProcess  isPrompt  isDirectPromptTauDecayProduct   count\n",
       "21      23.0             True      True                          False  655004\n",
       "17      15.0            False     False                           True   83738\n",
       "5        2.0             True      True                          False   19228\n",
       "19      21.0             True      True                          False    6361\n",
       "2        1.0             True      True                          False    5175\n",
       "11       4.0             True      True                          False    4321\n",
       "8        3.0             True      True                          False    2341\n",
       "32     521.0            False     False                          False    1328\n",
       "27     411.0            False     False                          False    1224\n",
       "31     511.0            False     False                          False    1211"
      ]
     },
     "execution_count": 17,
     "metadata": {},
     "output_type": "execute_result"
    }
   ],
   "source": [
    "df = ak.to_pandas(\n",
    "    ak.zip(\n",
    "        {\n",
    "            \"parentId\": abs(true_electrons.matched_gen.distinctParent.pdgId),\n",
    "            \"fromHardProcess\": true_electrons.matched_gen.hasFlags([\"fromHardProcess\"]),\n",
    "            \"isPrompt\": true_electrons.matched_gen.hasFlags([\"isPrompt\"]),\n",
    "            \"isDirectPromptTauDecayProduct\": true_electrons.matched_gen.hasFlags(\n",
    "                [\"isDirectPromptTauDecayProduct\"]\n",
    "            ),\n",
    "        }\n",
    "    )\n",
    ")\n",
    "\n",
    "top10 = (\n",
    "    df.groupby(list(df.columns))\n",
    "    .size()\n",
    "    .rename(\"count\")\n",
    "    .reset_index()\n",
    "    .sort_values(\"count\", ascending = False)\n",
    ")[:10]\n",
    "\n",
    "top10"
   ]
  },
  {
   "cell_type": "markdown",
   "metadata": {},
   "source": [
    "Indeed, in most cases, the parent is pdgId `23`, corresponding to the Z boson.  Sometimes the parent is a $\\tau$ lepton, and then the remainder are cases where the electron is from a hadron decay (`parentId > 100`) or where the parentage appears somewhat suspect (e.g. pdg IDs less than 6, corresponding to bare quarks... this is a quirk in how MadGraph records the parentage history for off-shell $Z^*/\\gamma^*$).  Conveniently, a set of flags is embedded in NanoAOD that are more straightforward than travsersing the NanoAOD parentage history.  In our case, we'll take `isPrompt` as the marker for true electrons coming from the hard scatter event.  Since direct $\\tau$ decays produce prompt isolated electrons, we include those with `isDirectPromptTauDecayProduct` as well."
   ]
  },
  {
   "cell_type": "code",
   "execution_count": 18,
   "metadata": {},
   "outputs": [],
   "source": [
    "promptmatch = true_electrons.matched_gen.hasFlags(['isPrompt'])\n",
    "promptmatch = promptmatch | true_electrons.matched_gen.hasFlags(['isDirectPromptTauDecayProduct'])\n",
    "prompt_electrons = true_electrons[promptmatch]\n",
    "nonprompt_electrons = true_electrons[~promptmatch]"
   ]
  },
  {
   "cell_type": "markdown",
   "metadata": {},
   "source": [
    "There is also a pre-computed variable `Electron.genPartFlav`, which according to the documentation, has the assignment:"
   ]
  },
  {
   "cell_type": "code",
   "execution_count": 19,
   "metadata": {},
   "outputs": [
    {
     "data": {
      "text/plain": [
       "'Flavour of genParticle (DressedLeptons for electrons) for MC matching to status==1 electrons or photons: 1 = prompt electron (including gamma*->mu mu), 15 = electron from prompt tau, 22 = prompt photon (likely conversion), 5 = electron from b, 4 = electron from c, 3 = electron from light or unknown, 0 = unmatched'"
      ]
     },
     "execution_count": 19,
     "metadata": {},
     "output_type": "execute_result"
    }
   ],
   "source": [
    "dyevents.Electron.genPartFlav.__doc__"
   ]
  },
  {
   "cell_type": "markdown",
   "metadata": {},
   "source": [
    "Let's see how this compares to our analysis: below we count the number of occurrences of each flavor using [np.unique](https://docs.scipy.org/doc/numpy/reference/generated/numpy.unique.html) and then print the results."
   ]
  },
  {
   "cell_type": "code",
   "execution_count": 20,
   "metadata": {},
   "outputs": [
    {
     "name": "stdout",
     "output_type": "stream",
     "text": [
      "GenPart flavor   1 has   693667 occurrences\n",
      "GenPart flavor  15 has    83738 occurrences\n",
      "GenPart flavor  22 has        8 occurrences\n"
     ]
    }
   ],
   "source": [
    "flavors, counts = np.unique(ak.to_numpy(prompt_electrons.genPartFlav), return_counts = True)\n",
    "for flavor, count in zip(flavors, counts):\n",
    "    print(\"GenPart flavor % 3d has % 8d occurrences\" % (flavor, count))"
   ]
  },
  {
   "cell_type": "markdown",
   "metadata": {},
   "source": [
    "Try checking our other categories against this pre-computed ground truth categorization by switching out the `prompt_electrons` variable with the others.\n",
    "For photons, `gevents.Photon.genPartFlav` provides similar categorization.  Below, we use this variable to sort photons into two variables."
   ]
  },
  {
   "cell_type": "code",
   "execution_count": 21,
   "metadata": {},
   "outputs": [],
   "source": [
    "photons = ak.flatten(gevents.Photon)\n",
    "prompt_photons = photons[photons.genPartFlav == 1]\n",
    "unmatched_photons = photons[photons.genPartFlav == 0]"
   ]
  },
  {
   "cell_type": "markdown",
   "metadata": {},
   "source": [
    "## Identification variables\n",
    "In the following few cells, we'll introduce typical identification variables that are useful in distinguishing electrons and photon candidates that are produced in hard scattering processes (the so-called true electrons/photons in HEPese).  We'll also look at electron- and photon-specific identification variables."
   ]
  },
  {
   "cell_type": "markdown",
   "metadata": {},
   "source": [
    "### Shower shape\n",
    "\n",
    "Shower shape variables are constructed from the energy-weighted spatial distribution of ECAL and HCAL deposits.\n",
    "\n",
    "   * $\\sigma_{i\\eta i\\eta}$ (`Electron.sieie`) is the energy-weighted standard deviation of integer eta (one per crystal) within the 5×5 crystal cluster centered at the crystal with maximum energy:\n",
    "\n",
    "$$ \\sigma_{i\\eta i\\eta} = \\frac{\\sum_{i}^{5x5} w_i (i\\eta_i - i\\eta_{\\text{seed}})}{\\sum_i^{5x5} w_i}, \\quad w_i = \\max(0, 4.7 + \\ln E_i - \\ln E_{5x5}),$$\n",
    "\n",
    "where the sum runs over the 5 × 5 crystal matrix around the most energetic crystal in the supercluster, and the eta distances are measured in units of the crystal size in the eta direction. This variable represents the second moment of the energy distribution along the eta coordinate.  The integer values are scaled by the nominal crystal $\\phi$ width in the barrel which is $\\pi / 180 \\approx 0.0175$. See: [definition](https://github.com/cms-sw/cmssw/blob/master/RecoEcal/EgammaCoreTools/interface/EcalClusterLazyTools.h#L252) and [implementation](https://github.com/cms-sw/cmssw/blob/master/RecoEcal/EgammaCoreTools/interface/EcalClusterTools.h#L1034) in CMSSW.\n",
    "\n",
    "   * $R_9$ (`Electron.r9`) is the ratio of the energy deposited in ECAL inside a 3 × 3 crystal matrix centered on the most energetic crystal in the supercluster and the supercluster raw energy.\n",
    "\n",
    "   * $H/E$ (`Electron.hoe`) is the ratio of the energy deposited in the single closest HCAL tower to the supercluster position inside a cone of radius 0.15 in the $\\eta, \\phi$ plane centered on the photon direction and the energy deposited in ECAL to that supercluster.\n",
    "\n",
    "   * $1/E - 1/P$ (`Electron.eInvMinusPInv`) is the signed difference between the reciprocal of the supercluster energy and the reciprocal of the GSF track momentum.\n",
    "\n",
    "Below, we plot the $\\sigma_{i\\eta i\\eta}$ variable for true prompt electrons and unmatched electrons, where the minimum electron $p_{T}$ is required to be at least 20 GeV."
   ]
  },
  {
   "cell_type": "code",
   "execution_count": 22,
   "metadata": {},
   "outputs": [
    {
     "data": {
      "text/plain": [
       "Text(1, 0, 'Electron $\\\\sigma_{i \\\\eta i \\\\eta}$')"
      ]
     },
     "execution_count": 22,
     "metadata": {},
     "output_type": "execute_result"
    },
    {
     "data": {
      "image/png": "[encoded data removed]",
      "text/plain": [
       "<Figure size 720x720 with 1 Axes>"
      ]
     },
     "metadata": {
      "needs_background": "light"
     },
     "output_type": "display_data"
    }
   ],
   "source": [
    "fig, ax = plt.subplots()\n",
    "opts = {\n",
    "    'density': True,\n",
    "    'alpha': 0.5,\n",
    "}\n",
    "\n",
    "vars = {\n",
    "    'sieie': {\n",
    "        'bins': np.linspace(0, 0.012, 100),# change different range for barrel and endcap\n",
    "        'xlabel': r'Electron $\\sigma_{i \\eta i \\eta}$',\n",
    "        'log': False\n",
    "    },\n",
    "    'eInvMinusPInv': {\n",
    "        'bins': np.linspace(-0.2, 0.2, 100),\n",
    "        'xlabel': r'Electron $1/E - 1/P$ [/GeV]',\n",
    "        'log': True\n",
    "    },\n",
    "    'r9': {\n",
    "        'bins': np.linspace(0, 1, 100),\n",
    "        'xlabel': r'Electron $R_{9}$',\n",
    "        'log': True\n",
    "    },\n",
    "    'hoe': {\n",
    "        'bins': np.linspace(0, 1, 100),\n",
    "        'xlabel': r'Electron H/E',\n",
    "        'log': True\n",
    "    },\n",
    "    'pfRelIso03_chg': {\n",
    "        'bins': np.linspace(0, 1, 100),\n",
    "        'xlabel': r'Electron relative charged isolation',\n",
    "        'log': True\n",
    "    },\n",
    "}\n",
    "\n",
    "def cut_and_get(candidates, attribute):\n",
    "    return getattr(candidates[(candidates.pt > 20.)], attribute)\n",
    "\n",
    "var = 'sieie'\n",
    "ax.hist(cut_and_get(prompt_electrons, var), color = 'blue', label = 'Prompt electrons', bins = vars[var]['bins'], **opts)\n",
    "#ax.hist(cut_and_get(photon_fakes, var), color = 'green', label = 'Photons', bins = vars[var]['bins'], **opts)\n",
    "#ax.hist(cut_and_get(nonprompt_electrons, var), color = 'orange', label = 'Non-prompt electrons', bins = vars[var]['bins'], **opts)\n",
    "ax.hist(cut_and_get(unmatched_electrons, var), color = 'red', label = 'Unmatched', bins = vars[var]['bins'], **opts)\n",
    "\n",
    "ax.legend()\n",
    "ax.set_ylabel('Normalized' if opts['density'] else 'Events')\n",
    "ax.set_yscale('log' if vars[var]['log'] else 'linear')\n",
    "ax.set_xlabel(vars[var]['xlabel'])"
   ]
  },
  {
   "cell_type": "markdown",
   "metadata": {},
   "source": [
    "Try uncommenting different categories and looking at the distributions.  Any guess as to why the true electrons have a double-peak?  It might help to try looking at `sieie` separately for barrel and endcap reconstructed electrons (hint: modify the filter function to also require `abs(electrons.eta) < 1.4447` for barrel electrons, and `abs(electrons.eta) > 1.566` for endcap).\n",
    "\n",
    "**Look at R9, H/E and 1/E - 1/P variables.** Which of the three is offers the strongest true vs fake electron discrimination? **Is the sign of 1/E - 1/P relevant for identification purposes?**\n",
    "\n",
    "Look at each variable as a function of $p_{T}$, for example by plotting a 2D histogram.  What trends do you notice?\n",
    "\n",
    "Plot `sieie` for prompt and unmatched photons in the barrel. Do you notice anything interesting?"
   ]
  },
  {
   "cell_type": "markdown",
   "metadata": {},
   "source": [
    "## Isolation\n",
    "\n",
    "Isolation variables compare the amount of energy deposited in a region around the reconstructed object to that of the object.  Typically, non-prompt electrons and photons (i.e. from hadron decays) have other energy deposited nearby.  Two particle flow (PF) isolation variables are saved in NanoAOD:\n",
    "\n",
    "   * PF charged hadron isolation `pfRelIso03_chg`: sum of $p_{T}$ of PF charged hadrons which are associated to the primary vertex, not in the \"footprint\" of the candidate, and within a cone of $\\Delta R < 0.3$,\n",
    "   * PF total isolation `pfRelIso03_all`: sum of $p_{T}$ of all PF candidates within the cone of $\\Delta R < 0.3$,\n",
    "   \n",
    "where in both cases, the values are relative to the object $p_{T}$.\n",
    "\n",
    "Due to pileup (multiple collisions in the same event), some of the PF candidates within this isolation cone may belong to a different collision and therefore this variable has a mild dependence on the number of pileup interactions. This pileup-dependence of total isolation can be corrected for, for example by computing,\n",
    "\n",
    "$$I = I_{\\text{raw}} - \\rho * \\text{EA}(|\\eta|),$$\n",
    "\n",
    "where $\\rho$ is the median pileup energy density per unit area, a measure of the pileup activity in the event (computed during the jet clustering stage); and EA is the effective area of the electron or photon object, a quantity computed and [made available](https://github.com/lsoffi/cmssw/blob/CMSSW_9_2_X_TnP/RecoEgamma/ElectronIdentification/data/Fall17/effAreaElectrons_cone03_pfNeuHadronsAndPhotons_92X.txt) by the Egamma POG, and is defined as explained in [slide 4 here](https://indico.cern.ch/event/662749/contributions/2763091/attachments/1545124/2424854/talk_electron_ID_fall17.pdf). **Q: Why is the EA parametrized as a function of $\\eta$, instead of say, $\\phi$? Can you offer an explanation?**"
   ]
  },
  {
   "cell_type": "markdown",
   "metadata": {},
   "source": [
    "### Electron-specific variables\n",
    "\n",
    "   * Mini-isolation `miniPFRelIso_all, miniPFRelIso_chg`: uses a cone whose size varies as a function of the electron $p_{T}$ in order to reduce accidental overlap from hard scatter and pileup processes,\n",
    "   * Conversion veto `convVeto`: reject electrons that are from photons conversions in the innermost layers of the pixel or tracker detectors"
   ]
  },
  {
   "cell_type": "markdown",
   "metadata": {},
   "source": [
    "### Photon-specific variables\n",
    "\n",
    "   * Conversion-safe electron veto `electronVeto`: this cut replaces the detector-based `pixelSeed` used to distinguish between photons and electrons. It checks the $\\Delta R$ distance between the photon direction and the nearest electron track and remove photons if there is a electron matching to the photon supercluster, with no missing hits and having no matching reconstructed conversion."
   ]
  },
  {
   "cell_type": "markdown",
   "metadata": {},
   "source": [
    "## Cut optimization\n",
    "\n",
    "Now that we've seen a few discriminating variables, let's compare their power for differentiating true electrons from background using a [ROC curve](https://en.wikipedia.org/wiki/Receiver_operating_characteristic), which shows signal tagging efficiency as well as background rejection efficiency simultaneously on a 2D plot. Efficiency $\\epsilon$ is defined for a given selection as:\n",
    "\n",
    "$$\\epsilon = \\frac{n_{\\text{pass}}}{n_{\\text{pass}}+n_{\\text{fail}}} = \\frac{n_{\\text{pass}}}{n_{\\text{total}}}$$"
   ]
  },
  {
   "cell_type": "code",
   "execution_count": 23,
   "metadata": {},
   "outputs": [
    {
     "data": {
      "application/vnd.jupyter.widget-view+json": {
       "model_id": "555e82822187420784a9e9d804e9a05f",
       "version_major": 2,
       "version_minor": 0
      },
      "text/plain": [
       "interactive(children=(FloatSlider(value=0.2, description='hadronicOverEm:', layout=Layout(width='800px'), max=…"
      ]
     },
     "metadata": {},
     "output_type": "display_data"
    },
    {
     "data": {
      "application/vnd.jupyter.widget-view+json": {
       "model_id": "07bf673854af472e8ee790866ffcc578",
       "version_major": 2,
       "version_minor": 0
      },
      "text/plain": [
       "Output()"
      ]
     },
     "metadata": {},
     "output_type": "display_data"
    }
   ],
   "source": [
    "from IDTools.DrawSlider import make_slider\n",
    "make_slider(prompt_electrons, unmatched_electrons)"
   ]
  },
  {
   "cell_type": "markdown",
   "metadata": {},
   "source": [
    "Below we plot the ROC curve for: selected discriminating variables; working points in the ROC of the POG-supported cut-based ID, which is a tuned selection on multiple variables; and the ROC for the POG-supported MVA classifier. Information on all of the POG-supported IDs can be found [here](https://twiki.cern.ch/twiki/bin/view/CMS/EgammaIDRecipesRun2).\n",
    "\n",
    "**Define a selection on multiple variables, measure its signal and background efficiency, and place a marker on the ROC corresponding to your ID.**"
   ]
  },
  {
   "cell_type": "code",
   "execution_count": 24,
   "metadata": {},
   "outputs": [],
   "source": [
    "def makeroc(sig, bkg, binning, direction = 1):\n",
    "    '''Given a signal and background discriminant array, along with a binning,\n",
    "    compute the ROC curve by integrating discriminant histograms along a direction:\n",
    "         1: cut < value\n",
    "        -1: cut >= value\n",
    "    Returns a tuple of (signal efficiency, background efficiency)'''\n",
    "    sighist, _ = np.histogram(ak.to_numpy(sig), bins = binning)\n",
    "    bkghist, _ = np.histogram(ak.to_numpy(bkg), bins = binning)\n",
    "    # numpy histogram will ignore values out of range of our binning (overflow)\n",
    "    # so add the overflow values that would pass given our cut direction\n",
    "    if direction == 1:\n",
    "        sighist[0] += sum(sig < binning[0])\n",
    "        bkghist[0] += sum(bkg < binning[0])\n",
    "    elif direction == -1:\n",
    "        sighist[-1] += sum(sig > binning[-1])\n",
    "        bkghist[-1] += sum(bkg > binning[-1])\n",
    "    else:\n",
    "        raise ValueError(\"Invalid direction\")\n",
    "    sigpass = (np.cumsum(sighist[::direction]) / len(sig))[::direction]\n",
    "    bkgpass = (np.cumsum(bkghist[::direction]) / len(bkg))[::direction]\n",
    "    return (sigpass, bkgpass)\n",
    "\n",
    "\n",
    "def cut(electrons):\n",
    "    return electrons[\n",
    "        (electrons.pt > 20)\n",
    "        & (abs(electrons.eta) < 1.4447)\n",
    "    ]\n",
    "\n",
    "\n",
    "roc_sieie = makeroc(\n",
    "    sig = cut(prompt_electrons).sieie,\n",
    "    bkg = cut(unmatched_electrons).sieie,\n",
    "    binning = np.linspace(0.005, 0.02, 100),\n",
    "    direction = 1,\n",
    ")\n",
    "\n",
    "roc_hoe = makeroc(\n",
    "    sig = cut(prompt_electrons).hoe,\n",
    "    bkg = cut(unmatched_electrons).hoe,\n",
    "    binning = np.linspace(0., 0.5, 100),\n",
    "    direction = 1,\n",
    ")\n",
    "\n",
    "roc_mva = makeroc(\n",
    "    sig = cut(prompt_electrons).mvaFall17V2Iso,\n",
    "    bkg = cut(unmatched_electrons).mvaFall17V2Iso,\n",
    "    binning = np.linspace(-1, 1., 100),\n",
    "    direction = -1,\n",
    ")"
   ]
  },
  {
   "cell_type": "code",
   "execution_count": 25,
   "metadata": {},
   "outputs": [],
   "source": [
    "sig_pass = cut(prompt_electrons).cutBased >= prompt_electrons.LOOSE\n",
    "bkg_pass = cut(unmatched_electrons).cutBased >= prompt_electrons.LOOSE\n",
    "wp_cutbased_loose = (\n",
    "    sum(sig_pass) / len(sig_pass),\n",
    "    sum(bkg_pass) / len(bkg_pass),\n",
    ")\n",
    "\n",
    "sig_pass = cut(prompt_electrons).cutBased >= prompt_electrons.TIGHT\n",
    "bkg_pass = cut(unmatched_electrons).cutBased >= prompt_electrons.TIGHT\n",
    "wp_cutbased_tight = (\n",
    "    sum(sig_pass) / len(sig_pass),\n",
    "    sum(bkg_pass) / len(bkg_pass),\n",
    ")"
   ]
  },
  {
   "cell_type": "code",
   "execution_count": 26,
   "metadata": {},
   "outputs": [
    {
     "data": {
      "text/plain": [
       "<matplotlib.legend.Legend at 0x7f1b6c221280>"
      ]
     },
     "execution_count": 26,
     "metadata": {},
     "output_type": "execute_result"
    },
    {
     "data": {
      "image/png": "[encoded data removed]",
      "text/plain": [
       "<Figure size 720x720 with 1 Axes>"
      ]
     },
     "metadata": {
      "needs_background": "light"
     },
     "output_type": "display_data"
    }
   ],
   "source": [
    "fig, ax = plt.subplots()\n",
    "ax.plot(*roc_sieie, label = r\"Cuts on $\\sigma_{i\\eta i\\eta}$\")\n",
    "ax.plot(*roc_hoe, label = r\"Cuts on $H/E$\")\n",
    "ax.plot(*wp_cutbased_loose, label = r\"POG loose ID\", marker = '*', markersize = 20, linestyle = 'none')\n",
    "ax.plot(*wp_cutbased_tight, label = r\"POG tight ID\", marker = '*', markersize = 20, linestyle = 'none')\n",
    "ax.plot(*roc_mva, label = r\"POG MVA ID\")\n",
    "\n",
    "diag = np.linspace(0, 1, 100)\n",
    "ax.plot(diag, diag, color = 'grey', linestyle = '--')\n",
    "ax.set_xlabel(\"Signal efficiency\")\n",
    "ax.set_ylabel(\"Background efficiency\")\n",
    "ax.set_xlim(1e-2, 1)\n",
    "ax.set_ylim(1e-2, 1)\n",
    "#ax.set_yscale('log')\n",
    "#ax.set_xscale('log')\n",
    "ax.legend(title = r'Barrel electrons')"
   ]
  },
  {
   "cell_type": "markdown",
   "metadata": {},
   "source": [
    "We are also often interested in the efficiency as a function of the electron's kinematics. To help explore the dependency, we can record the number of electrons passing and failing a given selection separately for many small regions in the electron $p_{T}$ and $\\eta$, which will allow us to compute the (binned) efficiency as a function of these variables, $\\epsilon(p_{T}, \\eta)$. We are using the [hist](https://hist.readthedocs.io/en/latest/) package to make a multidimensional histogram to record all these values in one object, which later can be projected as necessary."
   ]
  },
  {
   "cell_type": "code",
   "execution_count": 27,
   "metadata": {},
   "outputs": [
    {
     "data": {
      "text/html": [
       "<html>\n",
       "<div style=\"display:flex; align-items:center;\">\n",
       "<div style=\"width:290px;\">\n",
       "<svg xmlns=\"http://www.w3.org/2000/svg\" viewBox=\"-10 -10 220 220\">\n",
       "<rect x=\"0\" y=\"0\" width=\"160\" height=\"160\" style=\"fill:white;opacity:.5;stroke-width:2;stroke:currentColor;\"/>\n",
       "<rect x=\"20\" y=\"20\" width=\"160\" height=\"160\" style=\"fill:white;opacity:.5;stroke-width:2;stroke:currentColor;\"/>\n",
       "<rect x=\"40\" y=\"40\" width=\"160\" height=\"160\" style=\"fill:white;opacity:.5;stroke-width:2;stroke:currentColor;\"/>\n",
       "<text x=\"120.0\" y=\"120.0\" style=\"font-size: 26pt; font-family: verdana; font-style: bold; fill: black;\" text-anchor=\"middle\" alignment-baseline=\"middle\">\n",
       "3D\n",
       "</text>\n",
       "</svg>\n",
       "</div>\n",
       "<div style=\"flex=grow:1;\">\n",
       "StrCategory(['pass', 'fail'], name='region', label='Region')<br/>\n",
       "Regular(18, 20, 200, name='pt', label='pt')<br/>\n",
       "Regular(25, -2.5, 2.5, name='eta', label='eta')<br/>\n",
       "<hr style=\"margin-top:.2em; margin-bottom:.2em;\"/>\n",
       "Double() Σ=607553.0 <em>(777413.0 with flow)</em>\n",
       "\n",
       "</div>\n",
       "</div>\n",
       "</html>"
      ],
      "text/plain": [
       "Hist(\n",
       "  StrCategory(['pass', 'fail'], name='region', label='Region'),\n",
       "  Regular(18, 20, 200, name='pt', label='pt'),\n",
       "  Regular(25, -2.5, 2.5, name='eta', label='eta'),\n",
       "  storage=Double()) # Sum: 607553.0 (777413.0 with flow)"
      ]
     },
     "execution_count": 27,
     "metadata": {},
     "output_type": "execute_result"
    }
   ],
   "source": [
    "import hist\n",
    "\n",
    "efficiency = hist.Hist(\n",
    "    hist.axis.StrCategory([\"pass\", \"fail\"], name = \"region\", label = \"Region\"),\n",
    "    hist.axis.Regular(18, 20, 200, name = \"pt\", label = r\"pt\"),\n",
    "    hist.axis.Regular(25, -2.5, 2.5, name = \"eta\", label = r\"eta\")\n",
    ")\n",
    "\n",
    "passing = prompt_electrons.cutBased >= prompt_electrons.TIGHT\n",
    "efficiency.fill(region = \"pass\", pt = prompt_electrons[passing].pt, eta = prompt_electrons[passing].eta)\n",
    "efficiency.fill(region = \"fail\", pt = prompt_electrons[~passing].pt, eta = prompt_electrons[~passing].eta)\n",
    "\n",
    "efficiency"
   ]
  },
  {
   "cell_type": "markdown",
   "metadata": {},
   "source": [
    "In the cell below, we project the histogram to recover the binned $n_{\\text{pass}}(p_{T})$ (as `num`) and the binned $n_{\\text{total}}(p_{T})$ (as `denom`) and plot the ratio $\\epsilon(p_{T})$. Modify which axis the histogram is projected onto to see the efficiency as a function of $\\eta$.\n",
    "**Q: is the efficiency symmetric in $\\eta$?**\n",
    "**Q: what might explain the lower efficiency near $|\\eta|=1.4$?**"
   ]
  },
  {
   "cell_type": "code",
   "execution_count": 28,
   "metadata": {},
   "outputs": [
    {
     "data": {
      "text/plain": [
       "Text(0, 1, '$\\\\epsilon$')"
      ]
     },
     "execution_count": 28,
     "metadata": {},
     "output_type": "execute_result"
    },
    {
     "data": {
      "image/png": "[encoded data removed]",
      "text/plain": [
       "<Figure size 720x720 with 1 Axes>"
      ]
     },
     "metadata": {
      "needs_background": "light"
     },
     "output_type": "display_data"
    }
   ],
   "source": [
    "from coffea.hist import clopper_pearson_interval\n",
    "\n",
    "num = efficiency[\"pass\", ...].project(\"pt\").view()\n",
    "denom = efficiency.project(\"pt\").view()\n",
    "edges = efficiency.axes[\"pt\"].edges\n",
    "err = abs(clopper_pearson_interval(num, denom) - num / denom)\n",
    "\n",
    "fig, ax = plt.subplots()\n",
    "mplhep.histplot(num / denom, bins = edges, yerr = err, ax = ax)\n",
    "ax.set_xlabel(\"$p_{T}$ [GeV]\")\n",
    "ax.set_ylabel(\"$\\epsilon$\")"
   ]
  },
  {
   "cell_type": "code",
   "execution_count": null,
   "metadata": {},
   "outputs": [],
   "source": []
  }
 ],
 "metadata": {
  "kernelspec": {
   "display_name": "Python 3",
   "language": "python",
   "name": "python3"
  },
  "language_info": {
   "codemirror_mode": {
    "name": "ipython",
    "version": 3
   },
   "file_extension": ".py",
   "mimetype": "text/x-python",
   "name": "python",
   "nbconvert_exporter": "python",
   "pygments_lexer": "ipython3",
   "version": "3.9.12"
  }
 },
 "nbformat": 4,
 "nbformat_minor": 2
}
